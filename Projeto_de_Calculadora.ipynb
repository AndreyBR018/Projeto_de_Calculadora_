{
  "nbformat": 4,
  "nbformat_minor": 0,
  "metadata": {
    "colab": {
      "provenance": []
    },
    "kernelspec": {
      "name": "python3",
      "display_name": "Python 3"
    },
    "language_info": {
      "name": "python"
    }
  },
  "cells": [
    {
      "cell_type": "code",
      "source": [
        "print('Bem vindo a Calculadora de valores do Restaurante!')\n",
        "\n",
        "while True:\n",
        "\n",
        "      #Receber os dois valores do usuário\n",
        "      valor1 = float(input('Digite o valor do primeiro item: '))\n",
        "      valor2 = float(input('Digite o valor do segundo item: '))\n",
        "\n",
        "\n",
        "      #Menu de operações:\n",
        "      print('\\nEscolha qual operação deseja realizar: \\n')\n",
        "      print('1 - Soma dos valores (total de dois itens)')\n",
        "      print('2 - Subtração dos valores (diferença entre dois itens ou desconto)')\n",
        "      print('3 - Multiplicação dos valores (quantidade x preço)')\n",
        "      print('4 - Divisão (preço médio)')\n",
        "      print('5 - Sair do Programa!')\n",
        "\n",
        "      escolha = input('Digite o número da operação desejada: ')\n",
        "\n",
        "\n",
        "      #Realização da opção escolhida\n",
        "      if escolha == '1':\n",
        "        resultado = valor1 + valor2\n",
        "        print('O resultado da soma é de R$: ' ,resultado)\n",
        "      elif escolha == '2':\n",
        "        resultado = valor1 - valor2\n",
        "        print('A diferença entre os dois valores é de R$: ' ,resultado)\n",
        "      elif escolha == '3':\n",
        "        resultado = valor1 * valor2\n",
        "        print('O resultado da multiplicação é de: ' ,resultado)\n",
        "\n",
        "      elif escolha == '4':\n",
        "        if valor2 == 0:\n",
        "          print('Não é possível dividir por zero!')\n",
        "        else: resultado = valor1 / valor2\n",
        "        print('O preço médio dos itens é R$: ' ,resultado)\n",
        "      elif escolha == '5':\n",
        "        print('Fechando o programa...')\n",
        "        break\n",
        "      else:\n",
        "        print('Opção inválida, tente novamente!')\n",
        "\n",
        "\n"
      ],
      "metadata": {
        "colab": {
          "base_uri": "https://localhost:8080/"
        },
        "id": "RrD-SVq1Dct7",
        "outputId": "15c06ec7-9dc8-43bc-98fb-3d7d083bb95b"
      },
      "execution_count": 8,
      "outputs": [
        {
          "output_type": "stream",
          "name": "stdout",
          "text": [
            "Bem vindo a Calculadora de valores do Restaurante!\n",
            "Digite o valor do primeiro item: 10\n",
            "Digite o valor do segundo item: 52\n",
            "\n",
            "Escolha qual operação deseja realizar: \n",
            "\n",
            "1 - Soma dos valores (total de dois itens)\n",
            "2 - Subtração dos valores (diferença entre dois itens ou desconto)\n",
            "3 - Multiplicação dos valores (quantidade x preço)\n",
            "4 - Divisão (preço médio)\n",
            "5 - Sair do Programa!\n",
            "Digite o número da operação desejada: 4\n",
            "O preço médio dos itens é R$:  0.19230769230769232\n",
            "Digite o valor do primeiro item: 1\n",
            "Digite o valor do segundo item: 2\n",
            "\n",
            "Escolha qual operação deseja realizar: \n",
            "\n",
            "1 - Soma dos valores (total de dois itens)\n",
            "2 - Subtração dos valores (diferença entre dois itens ou desconto)\n",
            "3 - Multiplicação dos valores (quantidade x preço)\n",
            "4 - Divisão (preço médio)\n",
            "5 - Sair do Programa!\n",
            "Digite o número da operação desejada: 5\n",
            "Fechando o programa...\n"
          ]
        }
      ]
    }
  ]
}